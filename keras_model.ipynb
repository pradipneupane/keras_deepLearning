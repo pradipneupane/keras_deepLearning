{
 "cells": [
  {
   "cell_type": "code",
   "execution_count": 9,
   "metadata": {
    "collapsed": true,
    "pycharm": {
     "is_executing": false
    }
   },
   "outputs": [],
   "source": [
    "import warnings\n",
    "warnings.filterwarnings(\"ignore\",category=DeprecationWarning)\n",
    "import pandas as pd\n",
    "import matplotlib.pyplot as plt\n",
    "from sklearn.model_selection import train_test_split, RandomizedSearchCV, KFold\n",
    "from keras.models import Sequential\n",
    "from keras.layers import Dense, BatchNormalization\n",
    "from keras.utils import to_categorical\n",
    "from keras.callbacks import EarlyStopping\n",
    "from keras.optimizers import Adam\n",
    "from keras.wrappers.scikit_learn import KerasClassifier"
   ]
  },
  {
   "cell_type": "code",
   "execution_count": 10,
   "outputs": [],
   "source": [
    "\n",
    "# import the data and split into train, test\n",
    "df = pd.read_csv('kerastestdata.csv')\n",
    "\n",
    "df['competitor'] = pd.Categorical(df['competitor'])\n",
    "\n",
    "df['competitor'] = df['competitor'].cat.codes\n",
    "\n",
    "X = df.drop('competitor', 1)\n",
    "Y = to_categorical(df['competitor'])\n",
    "\n",
    "xtrain, xtest, ytrain, ytest = train_test_split(X, Y, test_size=0.25, random_state=42, stratify=Y, shuffle= True)\n"
   ],
   "metadata": {
    "collapsed": false,
    "pycharm": {
     "name": "#%%\n",
     "is_executing": false
    }
   }
  },
  {
   "cell_type": "code",
   "execution_count": 11,
   "outputs": [
    {
     "name": "stdout",
     "text": [
      "Train on 600 samples, validate on 200 samples\nEpoch 1/1000\n",
      "\r 32/600 [>.............................] - ETA: 13s - loss: 1.3790 - acc: 0.3750",
      "\b\b\b\b\b\b\b\b\b\b\b\b\b\b\b\b\b\b\b\b\b\b\b\b\b\b\b\b\b\b\b\b\b\b\b\b\b\b\b\b\b\b\b\b\b\b\b\b\b\b\b\b\b\b\b\b\b\b\b\b\b\b\b\b\b\b\b\b\b\b\b\b\b\b\b\b\b\b\b\b\r600/600 [==============================] - 1s 2ms/step - loss: 1.3637 - acc: 0.2700 - val_loss: 1.3463 - val_acc: 0.2450\n",
      "Epoch 2/1000\n\r 32/600 [>.............................] - ETA: 0s - loss: 1.3538 - acc: 0.2188",
      "\b\b\b\b\b\b\b\b\b\b\b\b\b\b\b\b\b\b\b\b\b\b\b\b\b\b\b\b\b\b\b\b\b\b\b\b\b\b\b\b\b\b\b\b\b\b\b\b\b\b\b\b\b\b\b\b\b\b\b\b\b\b\b\b\b\b\b\b\b\b\b\b\b\b\b\b\b\b\b\r600/600 [==============================] - 0s 91us/step - loss: 1.3172 - acc: 0.3033 - val_loss: 1.2980 - val_acc: 0.3100\n",
      "Epoch 3/1000\n\r 32/600 [>.............................] - ETA: 0s - loss: 1.2645 - acc: 0.4375",
      "\b\b\b\b\b\b\b\b\b\b\b\b\b\b\b\b\b\b\b\b\b\b\b\b\b\b\b\b\b\b\b\b\b\b\b\b\b\b\b\b\b\b\b\b\b\b\b\b\b\b\b\b\b\b\b\b\b\b\b\b\b\b\b\b\b\b\b\b\b\b\b\b\b\b\b\b\b\b\b\r600/600 [==============================] - 0s 57us/step - loss: 1.2566 - acc: 0.3850 - val_loss: 1.2263 - val_acc: 0.4900\n",
      "Epoch 4/1000\n\r 32/600 [>.............................] - ETA: 0s - loss: 1.1945 - acc: 0.5625",
      "\b\b\b\b\b\b\b\b\b\b\b\b\b\b\b\b\b\b\b\b\b\b\b\b\b\b\b\b\b\b\b\b\b\b\b\b\b\b\b\b\b\b\b\b\b\b\b\b\b\b\b\b\b\b\b\b\b\b\b\b\b\b\b\b\b\b\b\b\b\b\b\b\b\b\b\b\b\b\b\r600/600 [==============================] - 0s 40us/step - loss: 1.1710 - acc: 0.5383 - val_loss: 1.1283 - val_acc: 0.5200\n",
      "Epoch 5/1000\n\r 32/600 [>.............................] - ETA: 0s - loss: 1.1089 - acc: 0.5000",
      "\b\b\b\b\b\b\b\b\b\b\b\b\b\b\b\b\b\b\b\b\b\b\b\b\b\b\b\b\b\b\b\b\b\b\b\b\b\b\b\b\b\b\b\b\b\b\b\b\b\b\b\b\b\b\b\b\b\b\b\b\b\b\b\b\b\b\b\b\b\b\b\b\b\b\b\b\b\b\b\r600/600 [==============================] - 0s 38us/step - loss: 1.0683 - acc: 0.5450 - val_loss: 1.0236 - val_acc: 0.5350\n",
      "Epoch 6/1000\n\r 32/600 [>.............................] - ETA: 0s - loss: 0.9944 - acc: 0.6250",
      "\b\b\b\b\b\b\b\b\b\b\b\b\b\b\b\b\b\b\b\b\b\b\b\b\b\b\b\b\b\b\b\b\b\b\b\b\b\b\b\b\b\b\b\b\b\b\b\b\b\b\b\b\b\b\b\b\b\b\b\b\b\b\b\b\b\b\b\b\b\b\b\b\b\b\b\b\b\b\b\r600/600 [==============================] - 0s 38us/step - loss: 0.9703 - acc: 0.5633 - val_loss: 0.9359 - val_acc: 0.5250\n",
      "Epoch 7/1000\n\r 32/600 [>.............................] - ETA: 0s - loss: 0.8981 - acc: 0.5625",
      "\b\b\b\b\b\b\b\b\b\b\b\b\b\b\b\b\b\b\b\b\b\b\b\b\b\b\b\b\b\b\b\b\b\b\b\b\b\b\b\b\b\b\b\b\b\b\b\b\b\b\b\b\b\b\b\b\b\b\b\b\b\b\b\b\b\b\b\b\b\b\b\b\b\b\b\b\b\b\b",
      "\r600/600 [==============================] - 0s 40us/step - loss: 0.9038 - acc: 0.5983 - val_loss: 0.8786 - val_acc: 0.5850\n",
      "Epoch 8/1000\n\r 32/600 [>.............................] - ETA: 0s - loss: 0.8403 - acc: 0.5312",
      "\b\b\b\b\b\b\b\b\b\b\b\b\b\b\b\b\b\b\b\b\b\b\b\b\b\b\b\b\b\b\b\b\b\b\b\b\b\b\b\b\b\b\b\b\b\b\b\b\b\b\b\b\b\b\b\b\b\b\b\b\b\b\b\b\b\b\b\b\b\b\b\b\b\b\b\b\b\b\b\r600/600 [==============================] - 0s 40us/step - loss: 0.8664 - acc: 0.6350 - val_loss: 0.8433 - val_acc: 0.6200\n",
      "Epoch 9/1000\n\r 32/600 [>.............................] - ETA: 0s - loss: 0.6884 - acc: 0.6875",
      "\b\b\b\b\b\b\b\b\b\b\b\b\b\b\b\b\b\b\b\b\b\b\b\b\b\b\b\b\b\b\b\b\b\b\b\b\b\b\b\b\b\b\b\b\b\b\b\b\b\b\b\b\b\b\b\b\b\b\b\b\b\b\b\b\b\b\b\b\b\b\b\b\b\b\b\b\b\b\b",
      "\r600/600 [==============================] - 0s 40us/step - loss: 0.8489 - acc: 0.6367 - val_loss: 0.8326 - val_acc: 0.6500\n",
      "Epoch 10/1000\n\r 32/600 [>.............................] - ETA: 0s - loss: 0.8921 - acc: 0.5938",
      "\b\b\b\b\b\b\b\b\b\b\b\b\b\b\b\b\b\b\b\b\b\b\b\b\b\b\b\b\b\b\b\b\b\b\b\b\b\b\b\b\b\b\b\b\b\b\b\b\b\b\b\b\b\b\b\b\b\b\b\b\b\b\b\b\b\b\b\b\b\b\b\b\b\b\b\b\b\b\b\r600/600 [==============================] - 0s 40us/step - loss: 0.8311 - acc: 0.6433 - val_loss: 0.8108 - val_acc: 0.6700\n",
      "Epoch 11/1000\n",
      "\r 32/600 [>.............................] - ETA: 0s - loss: 0.7482 - acc: 0.6875",
      "\b\b\b\b\b\b\b\b\b\b\b\b\b\b\b\b\b\b\b\b\b\b\b\b\b\b\b\b\b\b\b\b\b\b\b\b\b\b\b\b\b\b\b\b\b\b\b\b\b\b\b\b\b\b\b\b\b\b\b\b\b\b\b\b\b\b\b\b\b\b\b\b\b\b\b\b\b\b\b\r600/600 [==============================] - 0s 40us/step - loss: 0.8117 - acc: 0.6817 - val_loss: 0.7973 - val_acc: 0.6850\n",
      "Epoch 12/1000\n\r 32/600 [>.............................] - ETA: 0s - loss: 0.9353 - acc: 0.5938",
      "\b\b\b\b\b\b\b\b\b\b\b\b\b\b\b\b\b\b\b\b\b\b\b\b\b\b\b\b\b\b\b\b\b\b\b\b\b\b\b\b\b\b\b\b\b\b\b\b\b\b\b\b\b\b\b\b\b\b\b\b\b\b\b\b\b\b\b\b\b\b\b\b\b\b\b\b\b\b\b",
      "\r600/600 [==============================] - 0s 40us/step - loss: 0.7964 - acc: 0.6733 - val_loss: 0.7735 - val_acc: 0.7050\n",
      "Epoch 13/1000\n\r 32/600 [>.............................] - ETA: 0s - loss: 0.8027 - acc: 0.5625",
      "\b\b\b\b\b\b\b\b\b\b\b\b\b\b\b\b\b\b\b\b\b\b\b\b\b\b\b\b\b\b\b\b\b\b\b\b\b\b\b\b\b\b\b\b\b\b\b\b\b\b\b\b\b\b\b\b\b\b\b\b\b\b\b\b\b\b\b\b\b\b\b\b\b\b\b\b\b\b\b\r600/600 [==============================] - 0s 45us/step - loss: 0.7916 - acc: 0.6883 - val_loss: 0.7816 - val_acc: 0.6900\n",
      "Epoch 14/1000\n",
      "\r 32/600 [>.............................] - ETA: 0s - loss: 0.8075 - acc: 0.6250",
      "\b\b\b\b\b\b\b\b\b\b\b\b\b\b\b\b\b\b\b\b\b\b\b\b\b\b\b\b\b\b\b\b\b\b\b\b\b\b\b\b\b\b\b\b\b\b\b\b\b\b\b\b\b\b\b\b\b\b\b\b\b\b\b\b\b\b\b\b\b\b\b\b\b\b\b\b\b\b\b\r600/600 [==============================] - 0s 42us/step - loss: 0.7773 - acc: 0.7017 - val_loss: 0.7870 - val_acc: 0.6800\n",
      "Epoch 15/1000\n\r 32/600 [>.............................] - ETA: 0s - loss: 0.6569 - acc: 0.6562",
      "\b\b\b\b\b\b\b\b\b\b\b\b\b\b\b\b\b\b\b\b\b\b\b\b\b\b\b\b\b\b\b\b\b\b\b\b\b\b\b\b\b\b\b\b\b\b\b\b\b\b\b\b\b\b\b\b\b\b\b\b\b\b\b\b\b\b\b\b\b\b\b\b\b\b\b\b\b\b\b",
      "\r600/600 [==============================] - 0s 38us/step - loss: 0.7625 - acc: 0.7117 - val_loss: 0.7395 - val_acc: 0.7450\n",
      "Epoch 16/1000\n\r 32/600 [>.............................] - ETA: 0s - loss: 0.6369 - acc: 0.7500",
      "\b\b\b\b\b\b\b\b\b\b\b\b\b\b\b\b\b\b\b\b\b\b\b\b\b\b\b\b\b\b\b\b\b\b\b\b\b\b\b\b\b\b\b\b\b\b\b\b\b\b\b\b\b\b\b\b\b\b\b\b\b\b\b\b\b\b\b\b\b\b\b\b\b\b\b\b\b\b\b\r600/600 [==============================] - 0s 40us/step - loss: 0.7511 - acc: 0.7233 - val_loss: 0.7403 - val_acc: 0.7200\n",
      "Epoch 17/1000\n\r 32/600 [>.............................] - ETA: 0s - loss: 0.7636 - acc: 0.6250",
      "\b\b\b\b\b\b\b\b\b\b\b\b\b\b\b\b\b\b\b\b\b\b\b\b\b\b\b\b\b\b\b\b\b\b\b\b\b\b\b\b\b\b\b\b\b\b\b\b\b\b\b\b\b\b\b\b\b\b\b\b\b\b\b\b\b\b\b\b\b\b\b\b\b\b\b\b\b\b\b",
      "\r600/600 [==============================] - 0s 38us/step - loss: 0.7376 - acc: 0.7200 - val_loss: 0.7202 - val_acc: 0.7700\n",
      "Epoch 18/1000\n\r 32/600 [>.............................] - ETA: 0s - loss: 0.7106 - acc: 0.7500",
      "\b\b\b\b\b\b\b\b\b\b\b\b\b\b\b\b\b\b\b\b\b\b\b\b\b\b\b\b\b\b\b\b\b\b\b\b\b\b\b\b\b\b\b\b\b\b\b\b\b\b\b\b\b\b\b\b\b\b\b\b\b\b\b\b\b\b\b\b\b\b\b\b\b\b\b\b\b\b\b",
      "\r600/600 [==============================] - 0s 40us/step - loss: 0.7283 - acc: 0.7333 - val_loss: 0.7024 - val_acc: 0.7550\n",
      "Epoch 19/1000\n\r",
      " 32/600 [>.............................] - ETA: 0s - loss: 0.8055 - acc: 0.6250",
      "\b\b\b\b\b\b\b\b\b\b\b\b\b\b\b\b\b\b\b\b\b\b\b\b\b\b\b\b\b\b\b\b\b\b\b\b\b\b\b\b\b\b\b\b\b\b\b\b\b\b\b\b\b\b\b\b\b\b\b\b\b\b\b\b\b\b\b\b\b\b\b\b\b\b\b\b\b\b\b\r600/600 [==============================] - 0s 43us/step - loss: 0.7240 - acc: 0.7467 - val_loss: 0.6927 - val_acc: 0.7700\n",
      "Epoch 20/1000\n\r 32/600 [>.............................] - ETA: 0s - loss: 0.8784 - acc: 0.8125",
      "\b\b\b\b\b\b\b\b\b\b\b\b\b\b\b\b\b\b\b\b\b\b\b\b\b\b\b\b\b\b\b\b\b\b\b\b\b\b\b\b\b\b\b\b\b\b\b\b\b\b\b\b\b\b\b\b\b\b\b\b\b\b\b\b\b\b\b\b\b\b\b\b\b\b\b\b\b\b\b",
      "\r600/600 [==============================] - 0s 38us/step - loss: 0.7127 - acc: 0.7417 - val_loss: 0.7000 - val_acc: 0.7450\n",
      "Epoch 21/1000\n\r 32/600 [>.............................] - ETA: 0s - loss: 0.5922 - acc: 0.7500",
      "\b\b\b\b\b\b\b\b\b\b\b\b\b\b\b\b\b\b\b\b\b\b\b\b\b\b\b\b\b\b\b\b\b\b\b\b\b\b\b\b\b\b\b\b\b\b\b\b\b\b\b\b\b\b\b\b\b\b\b\b\b\b\b\b\b\b\b\b\b\b\b\b\b\b\b\b\b\b\b",
      "\r600/600 [==============================] - 0s 40us/step - loss: 0.7176 - acc: 0.7350 - val_loss: 0.6806 - val_acc: 0.7650\n",
      "Epoch 22/1000\n\r 32/600 [>.............................] - ETA: 0s - loss: 0.7774 - acc: 0.7500",
      "\b\b\b\b\b\b\b\b\b\b\b\b\b\b\b\b\b\b\b\b\b\b\b\b\b\b\b\b\b\b\b\b\b\b\b\b\b\b\b\b\b\b\b\b\b\b\b\b\b\b\b\b\b\b\b\b\b\b\b\b\b\b\b\b\b\b\b\b\b\b\b\b\b\b\b\b\b\b\b",
      "\r600/600 [==============================] - 0s 38us/step - loss: 0.6996 - acc: 0.7550 - val_loss: 0.6936 - val_acc: 0.7500\n"
     ],
     "output_type": "stream"
    }
   ],
   "source": [
    "# keras model\n",
    "\n",
    "model = Sequential()\n",
    "model.add(Dense(128, input_shape=(2, ), activation='relu'))\n",
    "model.add(Dense(64, activation='relu'))\n",
    "model.add(Dense(32, activation='relu'))\n",
    "\n",
    "\n",
    "# output layer\n",
    "model.add(Dense(4, activation='softmax'))\n",
    "\n",
    "model.compile(loss='categorical_crossentropy', optimizer='adam', metrics=['accuracy'])\n",
    "\n",
    "earlystopping_callback = EarlyStopping(monitor='val_acc', \n",
    "                                patience=5)\n",
    "\n",
    "# we can create another keras callback ModelCheckpoint and save the best model in a same way like EarlyStopping\n",
    "history = model.fit(xtrain, ytrain, \n",
    "          epochs=1000, validation_data=(xtest, ytest),\n",
    "          callbacks=[earlystopping_callback])\n",
    "\n"
   ],
   "metadata": {
    "collapsed": false,
    "pycharm": {
     "name": "#%%\n",
     "is_executing": false
    }
   }
  },
  {
   "cell_type": "code",
   "execution_count": 12,
   "outputs": [
    {
     "data": {
      "text/plain": "<Figure size 432x288 with 1 Axes>",
      "image/png": "[encoded data removed]"
     },
     "metadata": {
      "needs_background": "light"
     },
     "output_type": "display_data"
    }
   ],
   "source": [
    "# lets plot the learning curve of this model\n",
    "plt.figure()\n",
    "plt.plot(history.history['loss'])\n",
    "plt.plot(history.history['val_loss'])\n",
    "plt.title('Model loss')\n",
    "plt.ylabel('Loss')\n",
    "plt.xlabel('Epoch')\n",
    "plt.legend(['Train', 'Test'], loc='upper right')\n",
    "plt.show()\n"
   ],
   "metadata": {
    "collapsed": false,
    "pycharm": {
     "name": "#%%\n",
     "is_executing": false
    }
   }
  },
  {
   "cell_type": "markdown",
   "source": [
    "Early stopping is basically stopping the training once your loss starts to increase (or in other words validation accuracy \n",
    "starts to decrease). Eventhough, 1000 epocs was used initially in the model,\n",
    "the early stopping callback has stopped model way before that, thus preventing model\n",
    "from being overfitting. \n",
    "\n",
    "In next exercise, I will be doing some strategy to increase model performance and\n",
    "do some hyperparameters tunning\n"
   ],
   "metadata": {
    "collapsed": false
   }
  },
  {
   "cell_type": "code",
   "execution_count": 13,
   "outputs": [
    {
     "data": {
      "text/plain": "<Figure size 432x288 with 1 Axes>",
      "image/png": "[encoded data removed]"
     },
     "metadata": {
      "needs_background": "light"
     },
     "output_type": "display_data"
    }
   ],
   "source": [
    "# model with batchnormalization\n",
    "\n",
    "b_model = Sequential()\n",
    "b_model.add(Dense(128, input_shape=(2,), activation='relu', kernel_initializer='normal'))\n",
    "b_model.add(BatchNormalization())\n",
    "b_model.add(Dense(64, activation='relu', kernel_initializer='normal'))\n",
    "b_model.add(BatchNormalization())\n",
    "b_model.add(Dense(32, activation='relu', kernel_initializer='normal'))\n",
    "b_model.add(BatchNormalization())\n",
    "\n",
    "\n",
    "b_model.add(Dense(4, activation='softmax', kernel_initializer='normal'))\n",
    "\n",
    "\n",
    "# Compile your model with adam\n",
    "b_model.compile(optimizer='adam', loss='categorical_crossentropy', metrics=['accuracy'])\n",
    "\n",
    "\n",
    "# lets compare previous model and this batch model\n",
    "history1 = model.fit(xtrain, ytrain, validation_data=(xtest, ytest), epochs=10, verbose=0)\n",
    "\n",
    "# Train the batch normalized model you recently built, store its history\n",
    "history2 = b_model.fit(xtrain, ytrain, validation_data=(xtest, ytest), epochs=10, verbose=0)\n",
    "\n",
    "# Call compare_acc_histories passing in both model histories\n",
    "plt.plot(history1.history['acc'])\n",
    "plt.plot(history1.history['val_acc'])\n",
    "plt.plot(history2.history['acc'])\n",
    "plt.plot(history2.history['val_acc'])\n",
    "plt.title(\"Batch Normalization Effects\")\n",
    "plt.xlabel('Epoch')\n",
    "plt.ylabel('Accuracy')\n",
    "plt.legend(['Train', 'Test', 'Train with Batch Normalization', 'Test with Batch Normalization'], loc='best')\n",
    "plt.show()\n"
   ],
   "metadata": {
    "collapsed": false,
    "pycharm": {
     "name": "#%%\n",
     "is_executing": false
    }
   }
  },
  {
   "cell_type": "markdown",
   "source": [
    "Our model wasnt much difference in Batch Normalization compared to without batch normalisation.\n",
    "\n",
    "In this final steps of this exercise, I am going to try to use some hyperparameters tunning.\n"
   ],
   "metadata": {
    "collapsed": false
   }
  },
  {
   "cell_type": "code",
   "execution_count": 14,
   "outputs": [
    {
     "data": {
      "text/plain": "'\\nThis random-search can takes quite a lot of time. However, at the end, this random search\\nwill be able to give the best params for our model. \\n'"
     },
     "metadata": {},
     "output_type": "execute_result",
     "execution_count": 14
    }
   ],
   "source": [
    "# define a model for a given activation and learning rate\n",
    "\n",
    "def create_model(learningrate = 0.001, activation = 'relu'):\n",
    "    opt = Adam(lr= learningrate)\n",
    "    \n",
    "    model = Sequential()\n",
    "    model.add(Dense(128, input_shape=(2, ), activation= activation))\n",
    "    model.add((Dense(64, activation= activation)))\n",
    "    model.add(Dense(32, activation = activation))\n",
    "    \n",
    "    model.add((Dense(4, activation = 'softmax')))\n",
    "    \n",
    "    model.compile(optimizer=opt, loss='binary_crossentropy', metrics=['accuracy'])\n",
    "    return  model\n",
    "\n",
    "\n",
    "model = KerasClassifier(build_fn=create_model)\n",
    "\n",
    "params = {'activation':['relu', 'tanh'], \n",
    "          'epochs':[50, 100]}\n",
    "\n",
    "'''\n",
    "This random-search can takes quite a lot of time. However, at the end, this random search\n",
    "will be able to give the best params for our model. \n",
    "'''\n",
    "\n",
    "random_search = RandomizedSearchCV(model, param_distributions=params, cv=KFold(3))\n",
    "\n",
    "random_search.fit(X, Y)\n",
    "\n",
    "print(random_search.best_params_)"
   ],
   "metadata": {
    "collapsed": false,
    "pycharm": {
     "name": "#%%\n",
     "is_executing": false
    }
   }
  }
 ],
 "metadata": {
  "language_info": {
   "codemirror_mode": {
    "name": "ipython",
    "version": 2
   },
   "file_extension": ".py",
   "mimetype": "text/x-python",
   "name": "python",
   "nbconvert_exporter": "python",
   "pygments_lexer": "ipython2",
   "version": "2.7.6"
  },
  "kernelspec": {
   "name": "python3",
   "language": "python",
   "display_name": "Python 3"
  },
  "pycharm": {
   "stem_cell": {
    "cell_type": "raw",
    "source": [],
    "metadata": {
     "collapsed": false
    }
   }
  }
 },
 "nbformat": 4,
 "nbformat_minor": 0
}