{
 "cells": [
  {
   "cell_type": "code",
   "execution_count": 2,
   "metadata": {
    "collapsed": true,
    "pycharm": {
     "is_executing": false
    }
   },
   "outputs": [
    {
     "name": "stderr",
     "text": [
      "Using TensorFlow backend.\n"
     ],
     "output_type": "stream"
    }
   ],
   "source": [
    "import warnings\n",
    "warnings.filterwarnings(\"ignore\",category=DeprecationWarning)\n",
    "import pandas as pd\n",
    "import matplotlib.pyplot as plt\n",
    "from sklearn.model_selection import train_test_split, RandomizedSearchCV, KFold\n",
    "from keras.models import Sequential\n",
    "from keras.layers import Dense, BatchNormalization\n",
    "from keras.utils import to_categorical\n",
    "from keras.callbacks import EarlyStopping\n",
    "from keras.optimizers import Adam\n",
    "from keras.wrappers.scikit_learn import KerasClassifier"
   ]
  },
  {
   "cell_type": "code",
   "execution_count": 4,
   "outputs": [],
   "source": [
    "\n",
    "# import the data and split into train, test\n",
    "darts = pd.read_csv('kerastestdata.csv')\n",
    "\n",
    "darts['competitor'] = pd.Categorical(darts['competitor'])\n",
    "\n",
    "darts['competitor'] = darts['competitor'].cat.codes\n",
    "\n",
    "X = darts.drop('competitor', 1)\n",
    "Y = to_categorical(darts['competitor'])\n",
    "\n",
    "xtrain, xtest, ytrain, ytest = train_test_split(X, Y, test_size=0.25, random_state=42, stratify=Y, shuffle= True)\n"
   ],
   "metadata": {
    "collapsed": false,
    "pycharm": {
     "name": "#%%\n",
     "is_executing": false
    }
   }
  },
  {
   "cell_type": "code",
   "execution_count": 5,
   "outputs": [
    {
     "name": "stdout",
     "text": [
      "WARNING:tensorflow:From C:\\Users\\pradi\\Anaconda3\\lib\\site-packages\\tensorflow\\python\\framework\\op_def_library.py:263: colocate_with (from tensorflow.python.framework.ops) is deprecated and will be removed in a future version.\nInstructions for updating:\nColocations handled automatically by placer.\n",
      "WARNING:tensorflow:From C:\\Users\\pradi\\Anaconda3\\lib\\site-packages\\tensorflow\\python\\ops\\math_ops.py:3066: to_int32 (from tensorflow.python.ops.math_ops) is deprecated and will be removed in a future version.\nInstructions for updating:\nUse tf.cast instead.\n",
      "Train on 600 samples, validate on 200 samples\nEpoch 1/1000\n",
      "\r 32/600 [>.............................] - ETA: 10s - loss: 1.3875 - acc: 0.1250",
      "\b\b\b\b\b\b\b\b\b\b\b\b\b\b\b\b\b\b\b\b\b\b\b\b\b\b\b\b\b\b\b\b\b\b\b\b\b\b\b\b\b\b\b\b\b\b\b\b\b\b\b\b\b\b\b\b\b\b\b\b\b\b\b\b\b\b\b\b\b\b\b\b\b\b\b\b\b\b\b\b\r600/600 [==============================] - 1s 1ms/step - loss: 1.3594 - acc: 0.2417 - val_loss: 1.3344 - val_acc: 0.2650\n",
      "Epoch 2/1000\n\r 32/600 [>.............................] - ETA: 0s - loss: 1.3062 - acc: 0.4062",
      "\b\b\b\b\b\b\b\b\b\b\b\b\b\b\b\b\b\b\b\b\b\b\b\b\b\b\b\b\b\b\b\b\b\b\b\b\b\b\b\b\b\b\b\b\b\b\b\b\b\b\b\b\b\b\b\b\b\b\b\b\b\b\b\b\b\b\b\b\b\b\b\b\b\b\b\b\b\b\b\r600/600 [==============================] - 0s 40us/step - loss: 1.3135 - acc: 0.2950 - val_loss: 1.2843 - val_acc: 0.3350\n",
      "Epoch 3/1000\n\r 32/600 [>.............................] - ETA: 0s - loss: 1.3035 - acc: 0.2500",
      "\b\b\b\b\b\b\b\b\b\b\b\b\b\b\b\b\b\b\b\b\b\b\b\b\b\b\b\b\b\b\b\b\b\b\b\b\b\b\b\b\b\b\b\b\b\b\b\b\b\b\b\b\b\b\b\b\b\b\b\b\b\b\b\b\b\b\b\b\b\b\b\b\b\b\b\b\b\b\b\r600/600 [==============================] - 0s 38us/step - loss: 1.2517 - acc: 0.4050 - val_loss: 1.2139 - val_acc: 0.4500\n",
      "Epoch 4/1000\n\r 32/600 [>.............................] - ETA: 0s - loss: 1.2014 - acc: 0.5312",
      "\b\b\b\b\b\b\b\b\b\b\b\b\b\b\b\b\b\b\b\b\b\b\b\b\b\b\b\b\b\b\b\b\b\b\b\b\b\b\b\b\b\b\b\b\b\b\b\b\b\b\b\b\b\b\b\b\b\b\b\b\b\b\b\b\b\b\b\b\b\b\b\b\b\b\b\b\b\b\b\r600/600 [==============================] - 0s 38us/step - loss: 1.1770 - acc: 0.4817 - val_loss: 1.1304 - val_acc: 0.5100\n",
      "Epoch 5/1000\n\r 32/600 [>.............................] - ETA: 0s - loss: 1.1164 - acc: 0.5938",
      "\b\b\b\b\b\b\b\b\b\b\b\b\b\b\b\b\b\b\b\b\b\b\b\b\b\b\b\b\b\b\b\b\b\b\b\b\b\b\b\b\b\b\b\b\b\b\b\b\b\b\b\b\b\b\b\b\b\b\b\b\b\b\b\b\b\b\b\b\b\b\b\b\b\b\b\b\b\b\b\r600/600 [==============================] - 0s 37us/step - loss: 1.0881 - acc: 0.5683 - val_loss: 1.0495 - val_acc: 0.5350\n",
      "Epoch 6/1000\n\r 32/600 [>.............................] - ETA: 0s - loss: 0.9318 - acc: 0.5000",
      "\b\b\b\b\b\b\b\b\b\b\b\b\b\b\b\b\b\b\b\b\b\b\b\b\b\b\b\b\b\b\b\b\b\b\b\b\b\b\b\b\b\b\b\b\b\b\b\b\b\b\b\b\b\b\b\b\b\b\b\b\b\b\b\b\b\b\b\b\b\b\b\b\b\b\b\b\b\b\b\r600/600 [==============================] - 0s 38us/step - loss: 0.9974 - acc: 0.5883 - val_loss: 0.9471 - val_acc: 0.5900\n",
      "Epoch 7/1000\n\r 32/600 [>.............................] - ETA: 0s - loss: 0.9607 - acc: 0.5938",
      "\b\b\b\b\b\b\b\b\b\b\b\b\b\b\b\b\b\b\b\b\b\b\b\b\b\b\b\b\b\b\b\b\b\b\b\b\b\b\b\b\b\b\b\b\b\b\b\b\b\b\b\b\b\b\b\b\b\b\b\b\b\b\b\b\b\b\b\b\b\b\b\b\b\b\b\b\b\b\b\r600/600 [==============================] - 0s 38us/step - loss: 0.9266 - acc: 0.5950 - val_loss: 0.9177 - val_acc: 0.5700\n",
      "Epoch 8/1000\n\r 32/600 [>.............................] - ETA: 0s - loss: 0.7607 - acc: 0.7812",
      "\b\b\b\b\b\b\b\b\b\b\b\b\b\b\b\b\b\b\b\b\b\b\b\b\b\b\b\b\b\b\b\b\b\b\b\b\b\b\b\b\b\b\b\b\b\b\b\b\b\b\b\b\b\b\b\b\b\b\b\b\b\b\b\b\b\b\b\b\b\b\b\b\b\b\b\b\b\b\b\r600/600 [==============================] - 0s 38us/step - loss: 0.8964 - acc: 0.6067 - val_loss: 0.8952 - val_acc: 0.5800\n",
      "Epoch 9/1000\n\r 32/600 [>.............................] - ETA: 0s - loss: 0.8727 - acc: 0.5938",
      "\b\b\b\b\b\b\b\b\b\b\b\b\b\b\b\b\b\b\b\b\b\b\b\b\b\b\b\b\b\b\b\b\b\b\b\b\b\b\b\b\b\b\b\b\b\b\b\b\b\b\b\b\b\b\b\b\b\b\b\b\b\b\b\b\b\b\b\b\b\b\b\b\b\b\b\b\b\b\b",
      "\r600/600 [==============================] - 0s 37us/step - loss: 0.8545 - acc: 0.6567 - val_loss: 0.8231 - val_acc: 0.6700\n",
      "Epoch 10/1000\n\r 32/600 [>.............................] - ETA: 0s - loss: 0.8968 - acc: 0.7812",
      "\b\b\b\b\b\b\b\b\b\b\b\b\b\b\b\b\b\b\b\b\b\b\b\b\b\b\b\b\b\b\b\b\b\b\b\b\b\b\b\b\b\b\b\b\b\b\b\b\b\b\b\b\b\b\b\b\b\b\b\b\b\b\b\b\b\b\b\b\b\b\b\b\b\b\b\b\b\b\b",
      "\r600/600 [==============================] - 0s 38us/step - loss: 0.8276 - acc: 0.6800 - val_loss: 0.8122 - val_acc: 0.6900\n",
      "Epoch 11/1000\n\r 32/600 [>.............................] - ETA: 0s - loss: 0.8146 - acc: 0.5938",
      "\b\b\b\b\b\b\b\b\b\b\b\b\b\b\b\b\b\b\b\b\b\b\b\b\b\b\b\b\b\b\b\b\b\b\b\b\b\b\b\b\b\b\b\b\b\b\b\b\b\b\b\b\b\b\b\b\b\b\b\b\b\b\b\b\b\b\b\b\b\b\b\b\b\b\b\b\b\b\b",
      "\r600/600 [==============================] - 0s 38us/step - loss: 0.8202 - acc: 0.7033 - val_loss: 0.7799 - val_acc: 0.7200\n",
      "Epoch 12/1000\n\r 32/600 [>.............................] - ETA: 0s - loss: 0.9700 - acc: 0.5938",
      "\b\b\b\b\b\b\b\b\b\b\b\b\b\b\b\b\b\b\b\b\b\b\b\b\b\b\b\b\b\b\b\b\b\b\b\b\b\b\b\b\b\b\b\b\b\b\b\b\b\b\b\b\b\b\b\b\b\b\b\b\b\b\b\b\b\b\b\b\b\b\b\b\b\b\b\b\b\b\b",
      "\r600/600 [==============================] - 0s 38us/step - loss: 0.8096 - acc: 0.6900 - val_loss: 0.8043 - val_acc: 0.6650\n",
      "Epoch 13/1000\n\r 32/600 [>.............................] - ETA: 0s - loss: 0.7563 - acc: 0.7500",
      "\b\b\b\b\b\b\b\b\b\b\b\b\b\b\b\b\b\b\b\b\b\b\b\b\b\b\b\b\b\b\b\b\b\b\b\b\b\b\b\b\b\b\b\b\b\b\b\b\b\b\b\b\b\b\b\b\b\b\b\b\b\b\b\b\b\b\b\b\b\b\b\b\b\b\b\b\b\b\b",
      "\r600/600 [==============================] - 0s 42us/step - loss: 0.8056 - acc: 0.6950 - val_loss: 0.7560 - val_acc: 0.7300\n",
      "Epoch 14/1000\n",
      "\r 32/600 [>.............................] - ETA: 0s - loss: 0.7154 - acc: 0.8750",
      "\b\b\b\b\b\b\b\b\b\b\b\b\b\b\b\b\b\b\b\b\b\b\b\b\b\b\b\b\b\b\b\b\b\b\b\b\b\b\b\b\b\b\b\b\b\b\b\b\b\b\b\b\b\b\b\b\b\b\b\b\b\b\b\b\b\b\b\b\b\b\b\b\b\b\b\b\b\b\b\r600/600 [==============================] - 0s 38us/step - loss: 0.7828 - acc: 0.7067 - val_loss: 0.7426 - val_acc: 0.7450\n",
      "Epoch 15/1000\n\r 32/600 [>.............................] - ETA: 0s - loss: 0.6865 - acc: 0.7500",
      "\b\b\b\b\b\b\b\b\b\b\b\b\b\b\b\b\b\b\b\b\b\b\b\b\b\b\b\b\b\b\b\b\b\b\b\b\b\b\b\b\b\b\b\b\b\b\b\b\b\b\b\b\b\b\b\b\b\b\b\b\b\b\b\b\b\b\b\b\b\b\b\b\b\b\b\b\b\b\b",
      "\r600/600 [==============================] - 0s 40us/step - loss: 0.7706 - acc: 0.7117 - val_loss: 0.7340 - val_acc: 0.7350\n",
      "Epoch 16/1000\n\r 32/600 [>.............................] - ETA: 0s - loss: 0.6056 - acc: 0.8750",
      "\b\b\b\b\b\b\b\b\b\b\b\b\b\b\b\b\b\b\b\b\b\b\b\b\b\b\b\b\b\b\b\b\b\b\b\b\b\b\b\b\b\b\b\b\b\b\b\b\b\b\b\b\b\b\b\b\b\b\b\b\b\b\b\b\b\b\b\b\b\b\b\b\b\b\b\b\b\b\b",
      "\r600/600 [==============================] - 0s 38us/step - loss: 0.7600 - acc: 0.7333 - val_loss: 0.7232 - val_acc: 0.7700\n",
      "Epoch 17/1000\n\r 32/600 [>.............................] - ETA: 0s - loss: 0.7718 - acc: 0.6250",
      "\b\b\b\b\b\b\b\b\b\b\b\b\b\b\b\b\b\b\b\b\b\b\b\b\b\b\b\b\b\b\b\b\b\b\b\b\b\b\b\b\b\b\b\b\b\b\b\b\b\b\b\b\b\b\b\b\b\b\b\b\b\b\b\b\b\b\b\b\b\b\b\b\b\b\b\b\b\b\b",
      "\r600/600 [==============================] - 0s 40us/step - loss: 0.7591 - acc: 0.7200 - val_loss: 0.7176 - val_acc: 0.7500\n",
      "Epoch 18/1000\n\r 32/600 [>.............................] - ETA: 0s - loss: 0.8260 - acc: 0.7188",
      "\b\b\b\b\b\b\b\b\b\b\b\b\b\b\b\b\b\b\b\b\b\b\b\b\b\b\b\b\b\b\b\b\b\b\b\b\b\b\b\b\b\b\b\b\b\b\b\b\b\b\b\b\b\b\b\b\b\b\b\b\b\b\b\b\b\b\b\b\b\b\b\b\b\b\b\b\b\b\b",
      "\r600/600 [==============================] - 0s 38us/step - loss: 0.7509 - acc: 0.7300 - val_loss: 0.7167 - val_acc: 0.7350\n",
      "Epoch 19/1000\n\r 32/600 [>.............................] - ETA: 0s - loss: 0.5345 - acc: 0.7812",
      "\b\b\b\b\b\b\b\b\b\b\b\b\b\b\b\b\b\b\b\b\b\b\b\b\b\b\b\b\b\b\b\b\b\b\b\b\b\b\b\b\b\b\b\b\b\b\b\b\b\b\b\b\b\b\b\b\b\b\b\b\b\b\b\b\b\b\b\b\b\b\b\b\b\b\b\b\b\b\b",
      "\r600/600 [==============================] - 0s 38us/step - loss: 0.7442 - acc: 0.7400 - val_loss: 0.7066 - val_acc: 0.7600\n",
      "Epoch 20/1000\n\r 32/600 [>.............................] - ETA: 0s - loss: 0.6476 - acc: 0.7812",
      "\b\b\b\b\b\b\b\b\b\b\b\b\b\b\b\b\b\b\b\b\b\b\b\b\b\b\b\b\b\b\b\b\b\b\b\b\b\b\b\b\b\b\b\b\b\b\b\b\b\b\b\b\b\b\b\b\b\b\b\b\b\b\b\b\b\b\b\b\b\b\b\b\b\b\b\b\b\b\b",
      "\r600/600 [==============================] - 0s 40us/step - loss: 0.7420 - acc: 0.7217 - val_loss: 0.7140 - val_acc: 0.7300\n",
      "Epoch 21/1000\n\r 32/600 [>.............................]",
      " - ETA: 0s - loss: 0.9902 - acc: 0.6875",
      "\b\b\b\b\b\b\b\b\b\b\b\b\b\b\b\b\b\b\b\b\b\b\b\b\b\b\b\b\b\b\b\b\b\b\b\b\b\b\b\b\b\b\b\b\b\b\b\b\b\b\b\b\b\b\b\b\b\b\b\b\b\b\b\b\b\b\b\b\b\b\b\b\b\b\b\b\b\b\b",
      "\r600/600 [==============================] - 0s 38us/step - loss: 0.7290 - acc: 0.7333 - val_loss: 0.7201 - val_acc: 0.7400\n"
     ],
     "output_type": "stream"
    }
   ],
   "source": [
    "# keras model\n",
    "\n",
    "model = Sequential()\n",
    "model.add(Dense(128, input_shape=(2, ), activation='relu'))\n",
    "model.add(Dense(64, activation='relu'))\n",
    "model.add(Dense(32, activation='relu'))\n",
    "\n",
    "\n",
    "# output layer\n",
    "model.add(Dense(4, activation='softmax'))\n",
    "\n",
    "model.compile(loss='categorical_crossentropy', optimizer='adam', metrics=['accuracy'])\n",
    "\n",
    "earlystopping_callback = EarlyStopping(monitor='val_acc', \n",
    "                                patience=5)\n",
    "\n",
    "# we can create another keras callback ModelCheckpoint and save the best model in a same way like EarlyStopping\n",
    "history = model.fit(xtrain, ytrain, \n",
    "          epochs=1000, validation_data=(xtest, ytest),\n",
    "          callbacks=[earlystopping_callback])\n",
    "\n"
   ],
   "metadata": {
    "collapsed": false,
    "pycharm": {
     "name": "#%%\n",
     "is_executing": false
    }
   }
  },
  {
   "cell_type": "code",
   "execution_count": 6,
   "outputs": [
    {
     "data": {
      "text/plain": "<Figure size 432x288 with 1 Axes>",
      "image/png": "[encoded data removed]"
     },
     "metadata": {
      "needs_background": "light"
     },
     "output_type": "display_data"
    }
   ],
   "source": [
    "# lets plot the learning curve of this model\n",
    "plt.figure()\n",
    "plt.plot(history.history['loss'])\n",
    "plt.plot(history.history['val_loss'])\n",
    "plt.title('Model loss')\n",
    "plt.ylabel('Loss')\n",
    "plt.xlabel('Epoch')\n",
    "plt.legend(['Train', 'Test'], loc='upper right')\n",
    "plt.show()\n"
   ],
   "metadata": {
    "collapsed": false,
    "pycharm": {
     "name": "#%%\n",
     "is_executing": false
    }
   }
  },
  {
   "cell_type": "markdown",
   "source": [
    "Early stopping is basically stopping the training once your loss starts to increase (or in other words validation accuracy \n",
    "starts to decrease). Eventhough, 1000 epocs was used initially in the model,\n",
    "the early stopping callback has stopped model way before that, thus preventing model\n",
    "from being overfitting. \n",
    "\n",
    "In next exercise, I will be doing some strategy to increase model performance and\n",
    "do some hyperparameters tunning\n"
   ],
   "metadata": {
    "collapsed": false
   }
  },
  {
   "cell_type": "code",
   "execution_count": 7,
   "outputs": [
    {
     "data": {
      "text/plain": "<Figure size 432x288 with 1 Axes>",
      "image/png": "[encoded data removed]"
     },
     "metadata": {
      "needs_background": "light"
     },
     "output_type": "display_data"
    }
   ],
   "source": [
    "# model with batchnormalization\n",
    "\n",
    "b_model = Sequential()\n",
    "b_model.add(Dense(128, input_shape=(2,), activation='relu', kernel_initializer='normal'))\n",
    "b_model.add(BatchNormalization())\n",
    "b_model.add(Dense(64, activation='relu', kernel_initializer='normal'))\n",
    "b_model.add(BatchNormalization())\n",
    "b_model.add(Dense(32, activation='relu', kernel_initializer='normal'))\n",
    "b_model.add(BatchNormalization())\n",
    "\n",
    "\n",
    "b_model.add(Dense(4, activation='softmax', kernel_initializer='normal'))\n",
    "\n",
    "\n",
    "# Compile your model with adam\n",
    "b_model.compile(optimizer='adam', loss='categorical_crossentropy', metrics=['accuracy'])\n",
    "\n",
    "\n",
    "# lets compare previous model and this batch model\n",
    "history1 = model.fit(xtrain, ytrain, validation_data=(xtest, ytest), epochs=10, verbose=0)\n",
    "\n",
    "# Train the batch normalized model you recently built, store its history\n",
    "history2 = b_model.fit(xtrain, ytrain, validation_data=(xtest, ytest), epochs=10, verbose=0)\n",
    "\n",
    "# Call compare_acc_histories passing in both model histories\n",
    "plt.plot(history1.history['acc'])\n",
    "plt.plot(history1.history['val_acc'])\n",
    "plt.plot(history2.history['acc'])\n",
    "plt.plot(history2.history['val_acc'])\n",
    "plt.title(\"Batch Normalization Effects\")\n",
    "plt.xlabel('Epoch')\n",
    "plt.ylabel('Accuracy')\n",
    "plt.legend(['Train', 'Test', 'Train with Batch Normalization', 'Test with Batch Normalization'], loc='best')\n",
    "plt.show()\n"
   ],
   "metadata": {
    "collapsed": false,
    "pycharm": {
     "name": "#%%\n",
     "is_executing": false
    }
   }
  },
  {
   "cell_type": "markdown",
   "source": [
    "Our model didnt perform well in Batch Normalization compared to without batch normalisation.\n",
    "\n",
    "In this final steps of this exercise, I am going to try to use some hyperparameters tunning.\n"
   ],
   "metadata": {
    "collapsed": false
   }
  },
  {
   "cell_type": "code",
   "execution_count": 8,
   "outputs": [
    {
     "data": {
      "text/plain": "'\\nThis random-search can takes quite a lot of time. However, at the end, this random search\\nwill be able to give the best params for our model. \\n'"
     },
     "metadata": {},
     "output_type": "execute_result",
     "execution_count": 8
    }
   ],
   "source": [
    "# define a model for a given activation and learning rate\n",
    "\n",
    "def create_model(learningrate = 0.001, activation = 'relu'):\n",
    "    opt = Adam(lr= learningrate)\n",
    "    \n",
    "    model = Sequential()\n",
    "    model.add(Dense(128, input_shape=(2, ), activation= activation))\n",
    "    model.add((Dense(64, activation= activation)))\n",
    "    model.add(Dense(32, activation = activation))\n",
    "    \n",
    "    model.add((Dense(4, activation = 'softmax')))\n",
    "    \n",
    "    model.compile(optimizer=opt, loss='binary_crossentropy', metrics=['accuracy'])\n",
    "    return  model\n",
    "\n",
    "\n",
    "model = KerasClassifier(build_fn=create_model)\n",
    "\n",
    "params = {'activation':['relu', 'tanh'], \n",
    "          'epochs':[50, 100]}\n",
    "\n",
    "'''\n",
    "This random-search can takes quite a lot of time. However, at the end, this random search\n",
    "will be able to give the best params for our model. \n",
    "'''\n",
    "\n",
    "random_search = RandomizedSearchCV(model, param_distributions=params, cv=KFold(3))\n",
    "\n",
    "random_search.fit(X, Y)\n",
    "\n",
    "print(random_search.best_params_)"
   ],
   "metadata": {
    "collapsed": false,
    "pycharm": {
     "name": "#%%\n",
     "is_executing": false
    }
   }
  }
 ],
 "metadata": {
  "language_info": {
   "codemirror_mode": {
    "name": "ipython",
    "version": 2
   },
   "file_extension": ".py",
   "mimetype": "text/x-python",
   "name": "python",
   "nbconvert_exporter": "python",
   "pygments_lexer": "ipython2",
   "version": "2.7.6"
  },
  "kernelspec": {
   "name": "python3",
   "language": "python",
   "display_name": "Python 3"
  },
  "pycharm": {
   "stem_cell": {
    "cell_type": "raw",
    "source": [],
    "metadata": {
     "collapsed": false
    }
   }
  }
 },
 "nbformat": 4,
 "nbformat_minor": 0
}